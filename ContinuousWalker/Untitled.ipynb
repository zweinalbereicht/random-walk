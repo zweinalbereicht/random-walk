{
 "cells": [
  {
   "cell_type": "code",
   "execution_count": 2,
   "id": "4f122cf7",
   "metadata": {},
   "outputs": [],
   "source": [
    "import numpy as np\n",
    "import matplotlib.pyplot as plt\n",
    "import ContinuousWalker.build.module_ContinuousWalker as md"
   ]
  },
  {
   "cell_type": "code",
   "execution_count": 65,
   "id": "ae62407d",
   "metadata": {},
   "outputs": [
    {
     "name": "stdout",
     "output_type": "stream",
     "text": [
      "name : a simple walker\n",
      "position : 1\n",
      "maximum : 1\n",
      "minimum : 1\n",
      "age : 0\n",
      "seed : 1\n",
      "c param : 1\n",
      "alpha param : 1\n",
      "beta param : 1\n"
     ]
    }
   ],
   "source": [
    "walker=md.LevyWalkerSkewed()\n",
    "walker.set_alpha(1)\n",
    "walker.set_beta(1)\n",
    "walker.print_details()"
   ]
  },
  {
   "cell_type": "code",
   "execution_count": 70,
   "id": "4d50ddce",
   "metadata": {},
   "outputs": [],
   "source": [
    "p=[]\n",
    "for k in range(1000000):\n",
    "    walker.move()\n",
    "    p.append(walker.get_pos())\n",
    "p=np.array(p)\n",
    "a=p[1:]-p[:-1]"
   ]
  },
  {
   "cell_type": "code",
   "execution_count": 71,
   "id": "57760d3c",
   "metadata": {},
   "outputs": [
    {
     "data": {
      "text/plain": [
       "<matplotlib.collections.PathCollection at 0x1634a0820>"
      ]
     },
     "execution_count": 71,
     "metadata": {},
     "output_type": "execute_result"
    },
    {
     "data": {
      "image/png": "[encoded data removed]",
      "text/plain": [
       "<Figure size 432x288 with 1 Axes>"
      ]
     },
     "metadata": {
      "needs_background": "light"
     },
     "output_type": "display_data"
    }
   ],
   "source": [
    "h=np.histogram(a[np.logical_and(np.abs(a)<5,a<1e3)],bins=np.linspace(-10,10), density=True)\n",
    "plt.scatter(h[1][1:],h[0])\n",
    "#plt.yscale('log')\n",
    "#plt.xscale('log')"
   ]
  },
  {
   "cell_type": "code",
   "execution_count": 43,
   "id": "530100b2",
   "metadata": {},
   "outputs": [],
   "source": [
    "f= lambda x : 2*x"
   ]
  },
  {
   "cell_type": "code",
   "execution_count": 20,
   "id": "291adce4",
   "metadata": {},
   "outputs": [
    {
     "data": {
      "text/plain": [
       "(array([    1,     0,     0,     0,     0,     0,     0,     0,     0,\n",
       "            1,     0,     0,     0,     0,     0,     0,     0,     1,\n",
       "            1,     0,     1,     0,     0,     0,     0,     0,     2,\n",
       "            0,     1,     1,     0,     2,     1,     1,     1,     1,\n",
       "            1,     1,     0,     3,     2,     3,     4,     7,     5,\n",
       "            4,    15,    18,    55, 98651,   787,   107,    55,    32,\n",
       "           26,    14,     8,     8,     9,     6,     7,     8,     4,\n",
       "            3,     7,     2,     5,     2,     2,     2,     3,     5,\n",
       "            0,     2,     1,     0,     1,     1,     0,     2,     2,\n",
       "            0,     1,     1,     0,     2,     3,     1,     2,     0,\n",
       "            0,     0,     1,     1,     1,     0,     1,     0,     0,\n",
       "            2]),\n",
       " array([-965020.66992188, -945673.40023193, -926326.13054199,\n",
       "        -906978.86085205, -887631.59116211, -868284.32147217,\n",
       "        -848937.05178223, -829589.78209229, -810242.51240234,\n",
       "        -790895.2427124 , -771547.97302246, -752200.70333252,\n",
       "        -732853.43364258, -713506.16395264, -694158.8942627 ,\n",
       "        -674811.62457275, -655464.35488281, -636117.08519287,\n",
       "        -616769.81550293, -597422.54581299, -578075.27612305,\n",
       "        -558728.00643311, -539380.73674316, -520033.46705322,\n",
       "        -500686.19736328, -481338.92767334, -461991.6579834 ,\n",
       "        -442644.38829346, -423297.11860352, -403949.84891357,\n",
       "        -384602.57922363, -365255.30953369, -345908.03984375,\n",
       "        -326560.77015381, -307213.50046387, -287866.23077393,\n",
       "        -268518.96108398, -249171.69139404, -229824.4217041 ,\n",
       "        -210477.15201416, -191129.88232422, -171782.61263428,\n",
       "        -152435.34294434, -133088.07325439, -113740.80356445,\n",
       "         -94393.53387451,  -75046.26418457,  -55698.99449463,\n",
       "         -36351.72480469,  -17004.45511475,    2342.8145752 ,\n",
       "          21690.08426514,   41037.35395508,   60384.62364502,\n",
       "          79731.89333496,   99079.1630249 ,  118426.43271484,\n",
       "         137773.70240479,  157120.97209473,  176468.24178467,\n",
       "         195815.51147461,  215162.78116455,  234510.05085449,\n",
       "         253857.32054443,  273204.59023438,  292551.85992432,\n",
       "         311899.12961426,  331246.3993042 ,  350593.66899414,\n",
       "         369940.93868408,  389288.20837402,  408635.47806396,\n",
       "         427982.74775391,  447330.01744385,  466677.28713379,\n",
       "         486024.55682373,  505371.82651367,  524719.09620361,\n",
       "         544066.36589355,  563413.6355835 ,  582760.90527344,\n",
       "         602108.17496338,  621455.44465332,  640802.71434326,\n",
       "         660149.9840332 ,  679497.25372314,  698844.52341309,\n",
       "         718191.79310303,  737539.06279297,  756886.33248291,\n",
       "         776233.60217285,  795580.87186279,  814928.14155273,\n",
       "         834275.41124268,  853622.68093262,  872969.95062256,\n",
       "         892317.2203125 ,  911664.49000244,  931011.75969238,\n",
       "         950359.02938232,  969706.29907227]))"
      ]
     },
     "execution_count": 20,
     "metadata": {},
     "output_type": "execute_result"
    }
   ],
   "source": [
    "h"
   ]
  }
 ],
 "metadata": {
  "kernelspec": {
   "display_name": "Python 3 (ipykernel)",
   "language": "python",
   "name": "python3"
  },
  "language_info": {
   "codemirror_mode": {
    "name": "ipython",
    "version": 3
   },
   "file_extension": ".py",
   "mimetype": "text/x-python",
   "name": "python",
   "nbconvert_exporter": "python",
   "pygments_lexer": "ipython3",
   "version": "3.9.7"
  },
  "toc": {
   "base_numbering": 1,
   "nav_menu": {},
   "number_sections": true,
   "sideBar": true,
   "skip_h1_title": false,
   "title_cell": "Table of Contents",
   "title_sidebar": "Contents",
   "toc_cell": false,
   "toc_position": {},
   "toc_section_display": true,
   "toc_window_display": false
  },
  "varInspector": {
   "cols": {
    "lenName": 16,
    "lenType": 16,
    "lenVar": 40
   },
   "kernels_config": {
    "python": {
     "delete_cmd_postfix": "",
     "delete_cmd_prefix": "del ",
     "library": "var_list.py",
     "varRefreshCmd": "print(var_dic_list())"
    },
    "r": {
     "delete_cmd_postfix": ") ",
     "delete_cmd_prefix": "rm(",
     "library": "var_list.r",
     "varRefreshCmd": "cat(var_dic_list()) "
    }
   },
   "types_to_exclude": [
    "module",
    "function",
    "builtin_function_or_method",
    "instance",
    "_Feature"
   ],
   "window_display": false
  }
 },
 "nbformat": 4,
 "nbformat_minor": 5
}
