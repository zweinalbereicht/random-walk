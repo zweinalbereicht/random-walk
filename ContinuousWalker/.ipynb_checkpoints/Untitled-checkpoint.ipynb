{
 "cells": [
  {
   "cell_type": "code",
   "execution_count": 2,
   "id": "5e6ae649",
   "metadata": {},
   "outputs": [],
   "source": [
    "import numpy as np\n",
    "import matplotlib.pyplot as plt\n",
    "import ContinuousWalker.build.module_ContinuousWalker as md"
   ]
  },
  {
   "cell_type": "code",
   "execution_count": 4,
   "id": "bd347ff3",
   "metadata": {},
   "outputs": [
    {
     "name": "stdout",
     "output_type": "stream",
     "text": [
      "name : a simple walker\n",
      "position : 1\n",
      "maximum : 1\n",
      "minimum : 1\n",
      "age : 0\n",
      "seed : 1\n",
      "c param : 1\n",
      "alpha param : 0.5\n",
      "beta param : 0.5\n"
     ]
    }
   ],
   "source": [
    "walker=md.LevyWalkerSkewed()\n",
    "walker.set_alpha(0.5)\n",
    "walker.set_beta(0.5)\n",
    "walker.print_details()"
   ]
  },
  {
   "cell_type": "code",
   "execution_count": 5,
   "id": "9646bafe",
   "metadata": {},
   "outputs": [],
   "source": [
    "p=[]\n",
    "for k in range(100000):\n",
    "    walker.move()\n",
    "    p.append(walker.get_pos())\n",
    "p=np.array(p)"
   ]
  },
  {
   "cell_type": "code",
   "execution_count": 6,
   "id": "4d50da53",
   "metadata": {},
   "outputs": [
    {
     "data": {
      "text/plain": [
       "array([ 1.06181597e+00,  1.62425863e+00, -7.06052543e+06, ...,\n",
       "        6.32945058e+11,  6.32945058e+11,  6.32945058e+11])"
      ]
     },
     "execution_count": 6,
     "metadata": {},
     "output_type": "execute_result"
    }
   ],
   "source": []
  }
 ],
 "metadata": {
  "kernelspec": {
   "display_name": "Python 3 (ipykernel)",
   "language": "python",
   "name": "python3"
  },
  "language_info": {
   "codemirror_mode": {
    "name": "ipython",
    "version": 3
   },
   "file_extension": ".py",
   "mimetype": "text/x-python",
   "name": "python",
   "nbconvert_exporter": "python",
   "pygments_lexer": "ipython3",
   "version": "3.9.7"
  },
  "toc": {
   "base_numbering": 1,
   "nav_menu": {},
   "number_sections": true,
   "sideBar": true,
   "skip_h1_title": false,
   "title_cell": "Table of Contents",
   "title_sidebar": "Contents",
   "toc_cell": false,
   "toc_position": {},
   "toc_section_display": true,
   "toc_window_display": false
  },
  "varInspector": {
   "cols": {
    "lenName": 16,
    "lenType": 16,
    "lenVar": 40
   },
   "kernels_config": {
    "python": {
     "delete_cmd_postfix": "",
     "delete_cmd_prefix": "del ",
     "library": "var_list.py",
     "varRefreshCmd": "print(var_dic_list())"
    },
    "r": {
     "delete_cmd_postfix": ") ",
     "delete_cmd_prefix": "rm(",
     "library": "var_list.r",
     "varRefreshCmd": "cat(var_dic_list()) "
    }
   },
   "types_to_exclude": [
    "module",
    "function",
    "builtin_function_or_method",
    "instance",
    "_Feature"
   ],
   "window_display": false
  }
 },
 "nbformat": 4,
 "nbformat_minor": 5
}
