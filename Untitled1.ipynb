{
 "cells": [
  {
   "cell_type": "code",
   "execution_count": 2,
   "id": "a74d9556",
   "metadata": {},
   "outputs": [],
   "source": [
    "import ContinuousWalker as md\n",
    "import numpy as np\n",
    "import matplotlib.pyplot as plt"
   ]
  },
  {
   "cell_type": "code",
   "execution_count": 23,
   "id": "f4cf6b19",
   "metadata": {},
   "outputs": [],
   "source": [
    "walker=md.LevyWalker(1,1.1)"
   ]
  },
  {
   "cell_type": "code",
   "execution_count": 24,
   "id": "26489951",
   "metadata": {},
   "outputs": [],
   "source": [
    "nb_steps=100000\n",
    "size=10.0\n",
    "pos=[]\n",
    "for k in range(nb_steps):\n",
    "    walker.move_bounded_fixed_time(size,1)\n",
    "    pos.append(walker.get_pos())"
   ]
  },
  {
   "cell_type": "code",
   "execution_count": 25,
   "id": "c2e743dd",
   "metadata": {},
   "outputs": [],
   "source": [
    "h=np.histogram(pos,bins=100, density=True)"
   ]
  },
  {
   "cell_type": "code",
   "execution_count": 8,
   "id": "66690856",
   "metadata": {},
   "outputs": [
    {
     "data": {
      "text/plain": [
       "(array([1068,  984,  916,  946,  960,  982, 1056, 1015, 1053, 1020]),\n",
       " array([1.66891076e-03, 1.00143409e+00, 2.00119926e+00, 3.00096444e+00,\n",
       "        4.00072961e+00, 5.00049479e+00, 6.00025997e+00, 7.00002514e+00,\n",
       "        7.99979032e+00, 8.99955549e+00, 9.99932067e+00]))"
      ]
     },
     "execution_count": 8,
     "metadata": {},
     "output_type": "execute_result"
    }
   ],
   "source": [
    "h"
   ]
  },
  {
   "cell_type": "code",
   "execution_count": 26,
   "id": "ea02b6b1",
   "metadata": {},
   "outputs": [
    {
     "data": {
      "text/plain": [
       "(0.0, 0.2)"
      ]
     },
     "execution_count": 26,
     "metadata": {},
     "output_type": "execute_result"
    },
    {
     "data": {
      "image/png": "[encoded data removed]",
      "text/plain": [
       "<Figure size 432x288 with 1 Axes>"
      ]
     },
     "metadata": {
      "needs_background": "light"
     },
     "output_type": "display_data"
    }
   ],
   "source": [
    "plt.plot(h[1][1:],h[0])\n",
    "plt.plot(h[1][1:],[1/10]*len(h[1][1:]))\n",
    "plt.ylim(0,2/10)"
   ]
  }
 ],
 "metadata": {
  "kernelspec": {
   "display_name": "py39",
   "language": "python",
   "name": "py39"
  },
  "language_info": {
   "codemirror_mode": {
    "name": "ipython",
    "version": 3
   },
   "file_extension": ".py",
   "mimetype": "text/x-python",
   "name": "python",
   "nbconvert_exporter": "python",
   "pygments_lexer": "ipython3",
   "version": "3.9.7"
  },
  "toc": {
   "base_numbering": 1,
   "nav_menu": {},
   "number_sections": true,
   "sideBar": true,
   "skip_h1_title": false,
   "title_cell": "Table of Contents",
   "title_sidebar": "Contents",
   "toc_cell": false,
   "toc_position": {},
   "toc_section_display": true,
   "toc_window_display": false
  },
  "varInspector": {
   "cols": {
    "lenName": 16,
    "lenType": 16,
    "lenVar": 40
   },
   "kernels_config": {
    "python": {
     "delete_cmd_postfix": "",
     "delete_cmd_prefix": "del ",
     "library": "var_list.py",
     "varRefreshCmd": "print(var_dic_list())"
    },
    "r": {
     "delete_cmd_postfix": ") ",
     "delete_cmd_prefix": "rm(",
     "library": "var_list.r",
     "varRefreshCmd": "cat(var_dic_list()) "
    }
   },
   "types_to_exclude": [
    "module",
    "function",
    "builtin_function_or_method",
    "instance",
    "_Feature"
   ],
   "window_display": false
  }
 },
 "nbformat": 4,
 "nbformat_minor": 5
}
